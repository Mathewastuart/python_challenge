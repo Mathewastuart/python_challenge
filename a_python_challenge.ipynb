{
 "cells": [
  {
   "cell_type": "code",
   "execution_count": 2,
   "id": "54e73d63",
   "metadata": {},
   "outputs": [
    {
     "data": {
      "text/html": [
       "<div>\n",
       "<style scoped>\n",
       "    .dataframe tbody tr th:only-of-type {\n",
       "        vertical-align: middle;\n",
       "    }\n",
       "\n",
       "    .dataframe tbody tr th {\n",
       "        vertical-align: top;\n",
       "    }\n",
       "\n",
       "    .dataframe thead th {\n",
       "        text-align: right;\n",
       "    }\n",
       "</style>\n",
       "<table border=\"1\" class=\"dataframe\">\n",
       "  <thead>\n",
       "    <tr style=\"text-align: right;\">\n",
       "      <th></th>\n",
       "      <th>Date</th>\n",
       "      <th>Profit/Losses</th>\n",
       "    </tr>\n",
       "  </thead>\n",
       "  <tbody>\n",
       "    <tr>\n",
       "      <th>0</th>\n",
       "      <td>Jan-10</td>\n",
       "      <td>1088983</td>\n",
       "    </tr>\n",
       "    <tr>\n",
       "      <th>1</th>\n",
       "      <td>Feb-10</td>\n",
       "      <td>-354534</td>\n",
       "    </tr>\n",
       "    <tr>\n",
       "      <th>2</th>\n",
       "      <td>Mar-10</td>\n",
       "      <td>276622</td>\n",
       "    </tr>\n",
       "    <tr>\n",
       "      <th>3</th>\n",
       "      <td>Apr-10</td>\n",
       "      <td>-728133</td>\n",
       "    </tr>\n",
       "    <tr>\n",
       "      <th>4</th>\n",
       "      <td>May-10</td>\n",
       "      <td>852993</td>\n",
       "    </tr>\n",
       "  </tbody>\n",
       "</table>\n",
       "</div>"
      ],
      "text/plain": [
       "     Date  Profit/Losses\n",
       "0  Jan-10        1088983\n",
       "1  Feb-10        -354534\n",
       "2  Mar-10         276622\n",
       "3  Apr-10        -728133\n",
       "4  May-10         852993"
      ]
     },
     "execution_count": 2,
     "metadata": {},
     "output_type": "execute_result"
    }
   ],
   "source": [
    "#Import the pandas module\n",
    "\n",
    "import pandas as pd\n",
    "\n",
    "#Read in the csv file\n",
    "mycsv = pd.read_csv(\"C:/Users/Mathew/Documents/budget_data.csv\")\n",
    "\n",
    "\n",
    "#convert into a dataframe\n",
    "analysis_df = pd.DataFrame(mycsv)\n",
    "\n",
    "#display header\n",
    "\n",
    "analysis_df.head()\n"
   ]
  },
  {
   "cell_type": "code",
   "execution_count": 35,
   "id": "7fe6608b",
   "metadata": {},
   "outputs": [],
   "source": [
    "#store the total months data\n",
    "total_months = analysis_df['Date'].count()"
   ]
  },
  {
   "cell_type": "code",
   "execution_count": 79,
   "id": "6d79f67d",
   "metadata": {},
   "outputs": [],
   "source": [
    "#store the total profit data\n",
    "total_profit = analysis_df['Profit/Losses'].sum()"
   ]
  },
  {
   "cell_type": "code",
   "execution_count": 84,
   "id": "33b51f97",
   "metadata": {},
   "outputs": [
    {
     "data": {
      "text/html": [
       "<div>\n",
       "<style scoped>\n",
       "    .dataframe tbody tr th:only-of-type {\n",
       "        vertical-align: middle;\n",
       "    }\n",
       "\n",
       "    .dataframe tbody tr th {\n",
       "        vertical-align: top;\n",
       "    }\n",
       "\n",
       "    .dataframe thead th {\n",
       "        text-align: right;\n",
       "    }\n",
       "</style>\n",
       "<table border=\"1\" class=\"dataframe\">\n",
       "  <thead>\n",
       "    <tr style=\"text-align: right;\">\n",
       "      <th></th>\n",
       "      <th>Date</th>\n",
       "      <th>Profit/Losses</th>\n",
       "      <th>Change</th>\n",
       "    </tr>\n",
       "  </thead>\n",
       "  <tbody>\n",
       "    <tr>\n",
       "      <th>0</th>\n",
       "      <td>Jan-10</td>\n",
       "      <td>1088983</td>\n",
       "      <td>NaN</td>\n",
       "    </tr>\n",
       "    <tr>\n",
       "      <th>1</th>\n",
       "      <td>Feb-10</td>\n",
       "      <td>-354534</td>\n",
       "      <td>-1443517.0</td>\n",
       "    </tr>\n",
       "    <tr>\n",
       "      <th>2</th>\n",
       "      <td>Mar-10</td>\n",
       "      <td>276622</td>\n",
       "      <td>631156.0</td>\n",
       "    </tr>\n",
       "    <tr>\n",
       "      <th>3</th>\n",
       "      <td>Apr-10</td>\n",
       "      <td>-728133</td>\n",
       "      <td>-1004755.0</td>\n",
       "    </tr>\n",
       "    <tr>\n",
       "      <th>4</th>\n",
       "      <td>May-10</td>\n",
       "      <td>852993</td>\n",
       "      <td>1581126.0</td>\n",
       "    </tr>\n",
       "  </tbody>\n",
       "</table>\n",
       "</div>"
      ],
      "text/plain": [
       "     Date  Profit/Losses     Change\n",
       "0  Jan-10        1088983        NaN\n",
       "1  Feb-10        -354534 -1443517.0\n",
       "2  Mar-10         276622   631156.0\n",
       "3  Apr-10        -728133 -1004755.0\n",
       "4  May-10         852993  1581126.0"
      ]
     },
     "execution_count": 84,
     "metadata": {},
     "output_type": "execute_result"
    }
   ],
   "source": [
    "#adds a new Column of change between months to the data frame (to stay organized of course)\n",
    "change = analysis_df['Profit/Losses'].diff(1) \n",
    "analysis_df[\"Change\"] = change \n",
    "\n",
    "#display the header of the updated dataframe\n",
    "analysis_df.head()\n",
    "\n"
   ]
  },
  {
   "cell_type": "code",
   "execution_count": 85,
   "id": "509b6791",
   "metadata": {},
   "outputs": [],
   "source": [
    "#Greatest increase in profits\n",
    "greatest_increase = int(analysis_df['Change'].max()) #finds the max in this column\n",
    "\n",
    "#finds the corresponding date with the greatest increase value\n",
    "increase_date = analysis_df[analysis_df['Change']==greatest_increase]['Date'].values[0]\n",
    "\n",
    "#Greatest decrease in profits\n",
    "greatest_decrease = int(analysis_df['Change'].min()) #finds the min in this column\n",
    "\n",
    "\n",
    "#Finds the corresponding date with the greatest decrease value\n",
    "decrease_date = analysis_df[analysis_df['Change']==greatest_decrease]['Date'].values[0]"
   ]
  },
  {
   "cell_type": "code",
   "execution_count": 86,
   "id": "ac3d3715",
   "metadata": {},
   "outputs": [],
   "source": [
    "#Average change\n",
    "#finds the average of the Change column, thus giving us the Average change\n",
    "average_change = float(analysis_df['Change'].mean())  \n"
   ]
  },
  {
   "cell_type": "code",
   "execution_count": 88,
   "id": "f081dc06",
   "metadata": {},
   "outputs": [
    {
     "name": "stdout",
     "output_type": "stream",
     "text": [
      "Financial Analysis\n",
      "-------------------------------------------\n",
      "Total Months: 86\n",
      "Total: $22564198\n",
      "Average Change: $-8311.105882352942\n",
      "Greatest Increase In Profits: Aug-16 $1862002\n",
      "Greatest Decrease In Profits: Feb-14 $-1825558\n"
     ]
    }
   ],
   "source": [
    "#prints the data found to the terminal\n",
    "\n",
    "\n",
    "print('Financial Analysis')\n",
    "print('-------------------------------------------')\n",
    "print('Total Months: ' + str(total_months))\n",
    "print('Total: $' + str(total_profit))\n",
    "print('Average Change: $' + str(average_change))\n",
    "print('Greatest Increase In Profits: ' +increase_date+' $' + str(greatest_increase))\n",
    "print('Greatest Decrease In Profits: ' + decrease_date+' $' + str(greatest_decrease))"
   ]
  },
  {
   "cell_type": "code",
   "execution_count": 91,
   "id": "b0856e00",
   "metadata": {},
   "outputs": [],
   "source": [
    "#writes data to a text file\n",
    "\n",
    "\n",
    "file = open(\"financial_analysis.txt\", \"w\")\n",
    "lines = ['Financial Analysis', '\\n-------------------------------------------', '\\nTotal Months: ' + str(total_months), \n",
    "         '\\nTotal: $' + str(total_profit), '\\nAverage Change: $' + str(average_change), '\\nGreatest Increase In Profits: ' +increase_date+' $' + str(greatest_increase), \n",
    "          '\\nGreatest Decrease In Profits: ' + decrease_date+' $' + str(greatest_decrease)]\n",
    "file.writelines(lines)\n",
    "file.close()"
   ]
  }
 ],
 "metadata": {
  "kernelspec": {
   "display_name": "Python 3 (ipykernel)",
   "language": "python",
   "name": "python3"
  },
  "language_info": {
   "codemirror_mode": {
    "name": "ipython",
    "version": 3
   },
   "file_extension": ".py",
   "mimetype": "text/x-python",
   "name": "python",
   "nbconvert_exporter": "python",
   "pygments_lexer": "ipython3",
   "version": "3.9.13"
  }
 },
 "nbformat": 4,
 "nbformat_minor": 5
}
