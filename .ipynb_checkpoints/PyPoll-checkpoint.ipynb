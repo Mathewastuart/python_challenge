{
 "cells": [
  {
   "cell_type": "code",
   "execution_count": 1,
   "id": "1b98cc16",
   "metadata": {},
   "outputs": [],
   "source": [
    "#import the pandas module\n",
    "import pandas as pd\n",
    "\n",
    "#read in the csv file\n",
    "mycsv = pd.read_csv(\"election_data.csv\")"
   ]
  },
  {
   "cell_type": "code",
   "execution_count": 2,
   "id": "f1de74f9",
   "metadata": {},
   "outputs": [
    {
     "data": {
      "text/html": [
       "<div>\n",
       "<style scoped>\n",
       "    .dataframe tbody tr th:only-of-type {\n",
       "        vertical-align: middle;\n",
       "    }\n",
       "\n",
       "    .dataframe tbody tr th {\n",
       "        vertical-align: top;\n",
       "    }\n",
       "\n",
       "    .dataframe thead th {\n",
       "        text-align: right;\n",
       "    }\n",
       "</style>\n",
       "<table border=\"1\" class=\"dataframe\">\n",
       "  <thead>\n",
       "    <tr style=\"text-align: right;\">\n",
       "      <th></th>\n",
       "      <th>Ballot ID</th>\n",
       "      <th>County</th>\n",
       "      <th>Candidate</th>\n",
       "    </tr>\n",
       "  </thead>\n",
       "  <tbody>\n",
       "    <tr>\n",
       "      <th>0</th>\n",
       "      <td>1323913</td>\n",
       "      <td>Jefferson</td>\n",
       "      <td>Charles Casper Stockham</td>\n",
       "    </tr>\n",
       "    <tr>\n",
       "      <th>1</th>\n",
       "      <td>1005842</td>\n",
       "      <td>Jefferson</td>\n",
       "      <td>Charles Casper Stockham</td>\n",
       "    </tr>\n",
       "    <tr>\n",
       "      <th>2</th>\n",
       "      <td>1880345</td>\n",
       "      <td>Jefferson</td>\n",
       "      <td>Charles Casper Stockham</td>\n",
       "    </tr>\n",
       "    <tr>\n",
       "      <th>3</th>\n",
       "      <td>1600337</td>\n",
       "      <td>Jefferson</td>\n",
       "      <td>Charles Casper Stockham</td>\n",
       "    </tr>\n",
       "    <tr>\n",
       "      <th>4</th>\n",
       "      <td>1835994</td>\n",
       "      <td>Jefferson</td>\n",
       "      <td>Charles Casper Stockham</td>\n",
       "    </tr>\n",
       "  </tbody>\n",
       "</table>\n",
       "</div>"
      ],
      "text/plain": [
       "   Ballot ID     County                Candidate\n",
       "0    1323913  Jefferson  Charles Casper Stockham\n",
       "1    1005842  Jefferson  Charles Casper Stockham\n",
       "2    1880345  Jefferson  Charles Casper Stockham\n",
       "3    1600337  Jefferson  Charles Casper Stockham\n",
       "4    1835994  Jefferson  Charles Casper Stockham"
      ]
     },
     "execution_count": 2,
     "metadata": {},
     "output_type": "execute_result"
    }
   ],
   "source": [
    "#convert into a data frame\n",
    "election_df = pd.DataFrame(mycsv)\n",
    "\n",
    "#display the header\n",
    "election_df.head()"
   ]
  },
  {
   "cell_type": "code",
   "execution_count": 3,
   "id": "eaa8e7a4",
   "metadata": {},
   "outputs": [],
   "source": [
    "#total votes found and stored\n",
    "total_votes = election_df['Ballot ID'].count()"
   ]
  },
  {
   "cell_type": "code",
   "execution_count": 4,
   "id": "909c3eab",
   "metadata": {},
   "outputs": [
    {
     "name": "stdout",
     "output_type": "stream",
     "text": [
      "['Charles Casper Stockham' 'Diana DeGette' 'Raymon Anthony Doane']\n"
     ]
    }
   ],
   "source": [
    "#list of candidates\n",
    "candidate_list = election_df['Candidate'].unique()\n",
    "print(candidate_list)"
   ]
  },
  {
   "cell_type": "code",
   "execution_count": 5,
   "id": "68dc8404",
   "metadata": {},
   "outputs": [],
   "source": [
    "#total number of votes for each candidate\n",
    "charles_votes = len(election_df.query(\"Candidate=='Charles Casper Stockham'\")['Ballot ID']) #finds each ballot for candidate\n",
    "diana_votes = len(election_df.query(\"Candidate=='Diana DeGette'\")['Ballot ID'])\n",
    "raymon_votes = len(election_df.query(\"Candidate=='Raymon Anthony Doane'\")['Ballot ID'])"
   ]
  },
  {
   "cell_type": "code",
   "execution_count": 6,
   "id": "162ef942",
   "metadata": {},
   "outputs": [],
   "source": [
    "#calculate percentage each candidate won\n",
    "charles_percent = (charles_votes/total_votes)*100\n",
    "diana_percent = (diana_votes/total_votes)*100\n",
    "raymon_percent = (raymon_votes/total_votes)*100"
   ]
  },
  {
   "cell_type": "code",
   "execution_count": 7,
   "id": "23190f49",
   "metadata": {},
   "outputs": [],
   "source": [
    "#store all votes in a data frame\n",
    "votes = {'Votes': [charles_votes, diana_votes, raymon_votes], \n",
    "        'Candidates': ['Charles Casper Stockham', 'Diana DeGette', 'Raymon Anthony Doane']}\n",
    "votes_df = pd.DataFrame(votes)"
   ]
  },
  {
   "cell_type": "code",
   "execution_count": 8,
   "id": "80b5900a",
   "metadata": {},
   "outputs": [],
   "source": [
    "#find the max votes in the data frame to find the winner's name\n",
    "election_winner = votes_df[votes_df['Votes']== votes_df['Votes'].max()]['Candidates'].values[0]"
   ]
  },
  {
   "cell_type": "code",
   "execution_count": 11,
   "id": "c47578e0",
   "metadata": {},
   "outputs": [
    {
     "name": "stdout",
     "output_type": "stream",
     "text": [
      "Election Results\n",
      "-----------------------------\n",
      "Total Votes: 369711\n",
      "------------------------------\n",
      "Charles Casper Stockham: %23.05 (85213)\n",
      "Diana DeGette: %73.81224794501652 (272892)\n",
      "Raymon Anthony Doane: %3.1392087333079077 (11606)\n",
      "----------------------\n",
      "Winner: Diana DeGette\n"
     ]
    }
   ],
   "source": [
    "#Display results to terminal\n",
    "print('Election Results')\n",
    "print(\"-----------------------------\")\n",
    "print('Total Votes: '+str(total_votes))\n",
    "print('------------------------------')\n",
    "print('Charles Casper Stockham: %'+ str(round(charles_percent, 2)) + \" (\"+str(charles_votes)+\")\")\n",
    "print('Diana DeGette: %'+ str(round(diana_percent,2)) + \" (\"+str(diana_votes)+\")\")\n",
    "print('Raymon Anthony Doane: %'+ str(round(raymon_percent, 2)) + \" (\"+str(raymon_votes)+\")\")\n",
    "print(\"----------------------\")\n",
    "print(\"Winner: \"+ election_winner)\n"
   ]
  },
  {
   "cell_type": "code",
   "execution_count": 10,
   "id": "fd5b337f",
   "metadata": {},
   "outputs": [],
   "source": [
    "#Write Results to a txt file\n",
    "file = open(\"election_analysis.txt\", \"w\")\n",
    "lines = ['Election Results', '\\n-----------------------------', '\\nTotal Votes: '+str(total_votes), \n",
    "        '\\n------------------------------', '\\nCharles Casper Stockham: %'+ str(charles_percent) +\" (\" +str(charles_votes)+\")\",\n",
    "        '\\nDiana DeGette: %'+ str(diana_percent) + \" (\"+str(diana_votes)+\")\", \n",
    "         '\\nRaymon Anthony Doane: %'+ str(raymon_percent) + \" (\"+str(raymon_votes)+ ')',\n",
    "         '\\n----------------------', '\\nWinner: '+ election_winner]\n",
    "file.writelines(lines)\n",
    "file.close()"
   ]
  },
  {
   "cell_type": "code",
   "execution_count": null,
   "id": "2e765459",
   "metadata": {},
   "outputs": [],
   "source": []
  }
 ],
 "metadata": {
  "kernelspec": {
   "display_name": "Python 3 (ipykernel)",
   "language": "python",
   "name": "python3"
  },
  "language_info": {
   "codemirror_mode": {
    "name": "ipython",
    "version": 3
   },
   "file_extension": ".py",
   "mimetype": "text/x-python",
   "name": "python",
   "nbconvert_exporter": "python",
   "pygments_lexer": "ipython3",
   "version": "3.9.13"
  }
 },
 "nbformat": 4,
 "nbformat_minor": 5
}
